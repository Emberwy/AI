


# load the data
import pandas as pd
data=pd.read_csv('test2.csv')
data.head()


# data 赋值
x=data.loc[:,'x']
y=data.loc[:,'y']
print(x,y)


# visualize the data展示图形便于选择线性模型
from matplotlib import pyplot as plt
plt.figure(figsize=(20,20))
plt.scatter(x,y)
plt.show()


# set up linear regression model
from sklearn.linear_model import LinearRegression
lr_model=LinearRegression()
# 转化x，y的维度 用于学习
import numpy as np
x=np.array(x)
x=x.reshape(-1,1)
print(type(x),x.shape)


y=np.array(y)
y=y.reshape(-1,1)
print(type(y),y.shape)


lr_model.fit(x,y)


y_predict=lr_model.predict(x)
print(y_predict)


# 预测3.5的值
y_3point5=lr_model.predict([[3.5]])
print(y_3point5)


# 评估
# 打印a/b
a=lr_model.coef_
b=lr_model.intercept_
print(a,b)


# 说明 y=2x+1
from sklearn.metrics import mean_squared_error,r2_score
MSE=mean_squared_error(y,y_predict)
R2=r2_score(y,y_predict)
print(MSE,R2)


plt.figure()
plt.scatter(y,y_predict)
plt.show()


# 从mse和r2和图片看出完全捏合

